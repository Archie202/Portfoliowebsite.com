{
  "nbformat": 4,
  "nbformat_minor": 0,
  "metadata": {
    "colab": {
      "provenance": [],
      "authorship_tag": "ABX9TyNtMUa1gIQS7ub/G/cXZ0z5",
      "include_colab_link": true
    },
    "kernelspec": {
      "name": "python3",
      "display_name": "Python 3"
    },
    "language_info": {
      "name": "python"
    }
  },
  "cells": [
    {
      "cell_type": "markdown",
      "metadata": {
        "id": "view-in-github",
        "colab_type": "text"
      },
      "source": [
        "<a href=\"https://colab.research.google.com/github/Archie202/Portfoliowebsite.com/blob/main/applicationeligibility_checker.ipynb\" target=\"_parent\"><img src=\"https://colab.research.google.com/assets/colab-badge.svg\" alt=\"Open In Colab\"/></a>"
      ]
    },
    {
      "cell_type": "code",
      "execution_count": null,
      "metadata": {
        "id": "uFg_MXirpspD"
      },
      "outputs": [],
      "source": [
        "#Year of birth and country eligibility checker\n",
        "\n",
        "name = input(\"What is your name?: \")\n",
        "yob = int(input(\"What year were you born?: \"))\n",
        "country = input(\"Nationality: \")\n",
        "\n",
        "# use a different variable name for the list of eligible countries to avoid confusion\n",
        "eligible_countries = [\"Nigeria\", \"USA\", \"Ivory Coast\", \"Ghana\"]\n",
        "\n",
        "# check if the entered country is in the list of eligible countries\n",
        "if country in eligible_countries:\n",
        "    # check if the user is 18 years or older\n",
        "    age = 2023 - yob\n",
        "    if age >= 18:\n",
        "        print(\"Congratulations, you are eligible!\")\n",
        "    else:\n",
        "        print(\"Sorry, you must be 18 years or older to be eligible for this application.\")\n",
        "else:\n",
        "    print(\"Sorry, your country is not eligible for this application.\")\n"
      ]
    },
    {
      "cell_type": "code",
      "source": [
        "from ast import operator\n",
        "#Simple calculator\n",
        "\n",
        "while True:\n",
        "  try:\n",
        "    num1 = float(input(\"Enter your first number here: \"))\n",
        "    num2 = float(input(\"Enter your second number here: \"))\n",
        "    break\n",
        "  except ValueError:\n",
        "    print(\"Invalid input, please enter a number: \")\n",
        "\n",
        "operation = input(\"Enter an operation (+, -, *, /): \")\n",
        "if operation == \"+\":\n",
        "  result = num1 + num2\n",
        "elif operation == \"-\":\n",
        "  result = num1 - num2\n",
        "elif operation == \"*\":\n",
        "  result = num1 * num2\n",
        "elif operation == \"/\":\n",
        "  result = num1 / num2\n",
        "else:\n",
        "  print(\"Invalid input, please input a valid operation.\")\n",
        "\n",
        "print(\"result: \", result)\n",
        "\n"
      ],
      "metadata": {
        "colab": {
          "base_uri": "https://localhost:8080/"
        },
        "id": "UxwP_WnDv31W",
        "outputId": "dea05ba7-114f-46cd-bcf1-550546206eb1"
      },
      "execution_count": 10,
      "outputs": [
        {
          "output_type": "stream",
          "name": "stdout",
          "text": [
            "Enter your first number here: 1\n",
            "Enter your second number here: 2\n",
            "Enter an operation (+, -, *, /): +\n",
            "result:  3.0\n"
          ]
        }
      ]
    }
  ]
}