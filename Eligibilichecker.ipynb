{
  "nbformat": 4,
  "nbformat_minor": 0,
  "metadata": {
    "colab": {
      "provenance": [],
      "authorship_tag": "ABX9TyPHSFlTgw+E8eCDZmKbx657",
      "include_colab_link": true
    },
    "kernelspec": {
      "name": "python3",
      "display_name": "Python 3"
    },
    "language_info": {
      "name": "python"
    }
  },
  "cells": [
    {
      "cell_type": "markdown",
      "metadata": {
        "id": "view-in-github",
        "colab_type": "text"
      },
      "source": [
        "<a href=\"https://colab.research.google.com/github/Archie202/Portfoliowebsite.com/blob/main/Eligibilichecker.ipynb\" target=\"_parent\"><img src=\"https://colab.research.google.com/assets/colab-badge.svg\" alt=\"Open In Colab\"/></a>"
      ]
    },
    {
      "cell_type": "code",
      "execution_count": null,
      "metadata": {
        "id": "uFg_MXirpspD"
      },
      "outputs": [],
      "source": [
        "name = input(\"What is your name?: \")\n",
        "yob = int(input(\"What year were you born?: \"))\n",
        "country = input(\"Nationality: \")\n",
        "\n",
        "# use a different variable name for the list of eligible countries to avoid confusion\n",
        "eligible_countries = [\"Nigeria\", \"USA\", \"Ivory Coast\", \"Ghana\"]\n",
        "\n",
        "# check if the entered country is in the list of eligible countries\n",
        "if country in eligible_countries:\n",
        "    # check if the user is 18 years or older\n",
        "    age = 2023 - yob\n",
        "    if age >= 18:\n",
        "        print(\"Congratulations, you are eligible!\")\n",
        "    else:\n",
        "        print(\"Sorry, you must be 18 years or older to be eligible for this application.\")\n",
        "else:\n",
        "    print(\"Sorry, your country is not eligible for this application.\")\n"
      ]
    }
  ]
}